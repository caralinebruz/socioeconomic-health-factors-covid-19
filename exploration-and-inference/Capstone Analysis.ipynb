{
 "cells": [
  {
   "cell_type": "code",
   "execution_count": 2,
   "id": "1fbb23b2",
   "metadata": {},
   "outputs": [],
   "source": [
    "import numpy as np\n",
    "from scipy import stats\n",
    "import matplotlib.pyplot as plt\n",
    "import pandas as pd\n",
    "import seaborn as sns\n",
    "from sklearn.linear_model import LinearRegression, Lasso, Ridge, ElasticNet, LassoCV, LogisticRegression\n",
    "from sklearn.metrics import r2_score, mean_squared_error\n",
    "from sklearn.model_selection import train_test_split\n",
    "from sklearn.pipeline import make_pipeline\n",
    "from sklearn.preprocessing import PolynomialFeatures"
   ]
  },
  {
   "cell_type": "code",
   "execution_count": 3,
   "id": "7ab3bc50",
   "metadata": {},
   "outputs": [],
   "source": [
    "data_df = pd.read_csv('data.csv')"
   ]
  },
  {
   "cell_type": "code",
   "execution_count": 4,
   "id": "1010e0e2",
   "metadata": {},
   "outputs": [],
   "source": [
    "data_df[\"date\"] = pd.to_datetime(data_df[\"date\"], format=\"%Y-%m-%d\")"
   ]
  },
  {
   "cell_type": "code",
   "execution_count": 8,
   "id": "793ff253",
   "metadata": {},
   "outputs": [
    {
     "name": "stdout",
     "output_type": "stream",
     "text": [
      "<class 'pandas.core.frame.DataFrame'>\n",
      "RangeIndex: 64675 entries, 0 to 64674\n",
      "Data columns (total 138 columns):\n",
      " #    Column                                           Dtype         \n",
      "---   ------                                           -----         \n",
      " 0    iso_code                                         object        \n",
      " 1    country                                          object        \n",
      " 2    date                                             datetime64[ns]\n",
      " 3    jhu_confirmed                                    float64       \n",
      " 4    jhu_deaths                                       float64       \n",
      " 5    jhu_recovered                                    float64       \n",
      " 6    owid_total_cases                                 float64       \n",
      " 7    owid_new_cases                                   float64       \n",
      " 8    owid_total_deaths                                float64       \n",
      " 9    owid_new_deaths                                  float64       \n",
      " 10   owid_total_cases_per_million                     float64       \n",
      " 11   owid_new_cases_per_million                       float64       \n",
      " 12   owid_total_deaths_per_million                    float64       \n",
      " 13   owid_new_deaths_per_million                      float64       \n",
      " 14   owid_total_tests                                 float64       \n",
      " 15   owid_new_tests                                   float64       \n",
      " 16   owid_new_tests_smoothed                          float64       \n",
      " 17   owid_total_tests_per_thousand                    float64       \n",
      " 18   owid_new_tests_per_thousand                      float64       \n",
      " 19   owid_new_tests_smoothed_per_thousand             float64       \n",
      " 20   owid_tests_per_case                              float64       \n",
      " 21   owid_positive_rate                               float64       \n",
      " 22   owid_tests_units                                 object        \n",
      " 23   owid_stringency_index                            float64       \n",
      " 24   owid_weekly_excess_mortality_p_score             float64       \n",
      " 25   owid_weekly_excess_mortality_p_score_0_14        float64       \n",
      " 26   owid_weekly_excess_mortality_p_score_15_64       float64       \n",
      " 27   owid_weekly_excess_mortality_p_score_65_74       float64       \n",
      " 28   owid_weekly_excess_mortality_p_score_75_84       float64       \n",
      " 29   owid_weekly_excess_mortality_p_score_85plus      float64       \n",
      " 30   owid_weekly_deaths_2020                          float64       \n",
      " 31   owid_weekly_deaths_2019                          float64       \n",
      " 32   owid_weekly_deaths_2018                          float64       \n",
      " 33   owid_weekly_deaths_2017                          float64       \n",
      " 34   owid_weekly_deaths_2016                          float64       \n",
      " 35   owid_weekly_deaths_2015                          float64       \n",
      " 36   owid_avg_weekly_deaths_2015_2019                 float64       \n",
      " 37   owid_population                                  float64       \n",
      " 38   owid_population_density                          float64       \n",
      " 39   owid_median_age                                  float64       \n",
      " 40   owid_aged_65_older                               float64       \n",
      " 41   owid_aged_70_older                               float64       \n",
      " 42   owid_gdp_per_capita                              float64       \n",
      " 43   owid_extreme_poverty                             float64       \n",
      " 44   owid_cardiovasc_death_rate                       float64       \n",
      " 45   owid_diabetes_prevalence                         float64       \n",
      " 46   owid_female_smokers                              float64       \n",
      " 47   owid_male_smokers                                float64       \n",
      " 48   owid_handwashing_facilities                      float64       \n",
      " 49   owid_hospital_beds_per_thousand                  float64       \n",
      " 50   owid_life_expectancy                             float64       \n",
      " 51   ox_c1_school_closing                             float64       \n",
      " 52   ox_c1_flag                                       float64       \n",
      " 53   ox_c2_workplace_closing                          float64       \n",
      " 54   ox_c2_flag                                       float64       \n",
      " 55   ox_c3_cancel_public_events                       float64       \n",
      " 56   ox_c3_flag                                       float64       \n",
      " 57   ox_c4_restrictions_on_gatherings                 float64       \n",
      " 58   ox_c4_flag                                       float64       \n",
      " 59   ox_c5_close_public_transport                     float64       \n",
      " 60   ox_c5_flag                                       float64       \n",
      " 61   ox_c6_stay_at_home_requirements                  float64       \n",
      " 62   ox_c6_flag                                       float64       \n",
      " 63   ox_c7_restrictions_on_internal_movement          float64       \n",
      " 64   ox_c7_flag                                       float64       \n",
      " 65   ox_c8_international_travel_controls              float64       \n",
      " 66   ox_e1_income_support                             float64       \n",
      " 67   ox_e1_flag                                       float64       \n",
      " 68   ox_e2_debt_or_contract_relief                    float64       \n",
      " 69   ox_e3_fiscal_measures                            float64       \n",
      " 70   ox_e4_international_support                      float64       \n",
      " 71   ox_h1_public_information_campaigns               float64       \n",
      " 72   ox_h1_flag                                       float64       \n",
      " 73   ox_h2_testing_policy                             float64       \n",
      " 74   ox_h3_contact_tracing                            float64       \n",
      " 75   ox_h4_emergency_investment_in_healthcare         float64       \n",
      " 76   ox_h5_investment_in_vaccines                     float64       \n",
      " 77   ox_m1_wildcard                                   float64       \n",
      " 78   ox_confirmed_cases                               float64       \n",
      " 79   ox_confirmed_deaths                              float64       \n",
      " 80   ox_stringency_index                              float64       \n",
      " 81   ox_stringency_index_for_display                  float64       \n",
      " 82   ox_stringency_legacy_index                       float64       \n",
      " 83   ox_stringency_legacy_index_for_display           float64       \n",
      " 84   ox_government_response_index                     float64       \n",
      " 85   ox_government_response_index_for_display         float64       \n",
      " 86   ox_containment_health_index                      float64       \n",
      " 87   ox_containment_health_index_for_display          float64       \n",
      " 88   ox_economic_support_index                        float64       \n",
      " 89   ox_economic_support_index_for_display            float64       \n",
      " 90   marioli_effective_reproduction_rate              float64       \n",
      " 91   marioli_ci_65_u                                  float64       \n",
      " 92   marioli_ci_65_l                                  float64       \n",
      " 93   marioli_ci_95_u                                  float64       \n",
      " 94   marioli_ci_95_l                                  float64       \n",
      " 95   yougov_fear_of_catching                          float64       \n",
      " 96   yougov_government_handling                       float64       \n",
      " 97   yougov_avoiding_crowded_places                   float64       \n",
      " 98   yougov_wearing_mask_in_public                    float64       \n",
      " 99   yougov_avoiding_going_to_work                    float64       \n",
      " 100  yougov_avoiding_raw_meat                         float64       \n",
      " 101  yougov_stopping_sending_children                 float64       \n",
      " 102  yougov_improving_personal_hygiene                float64       \n",
      " 103  yougov_refraining_from_touching_objects          float64       \n",
      " 104  yougov_avoiding_contact_with_tourists            float64       \n",
      " 105  yougov_support_stopping_flights_from_china       float64       \n",
      " 106  yougov_support_quarantine_flights_from_china     float64       \n",
      " 107  yougov_support_stopping_international_flights    float64       \n",
      " 108  yougov_support_quarantine_international_flights  float64       \n",
      " 109  yougov_support_quarantine_chinese_travellers     float64       \n",
      " 110  yougov_support_quarantine_any_person             float64       \n",
      " 111  yougov_support_quarantine_any_location           float64       \n",
      " 112  yougov_support_free_masks                        float64       \n",
      " 113  yougov_support_work_from_home                    float64       \n",
      " 114  yougov_support_temporarily_close_schools         float64       \n",
      " 115  yougov_support_cancel_large_events               float64       \n",
      " 116  yougov_support_cancel_hospital_routines          float64       \n",
      " 117  yougov_confidence_in_health_authorities          float64       \n",
      " 118  yougov_perceived_national_improvement            float64       \n",
      " 119  yougov_perceived_global_improvement              float64       \n",
      " 120  yougov_international_happiness                   float64       \n",
      " 121  yougov_personal_health_fears                     float64       \n",
      " 122  yougov_friends_and_family_health_fears           float64       \n",
      " 123  yougov_finances_fears                            float64       \n",
      " 124  yougov_job_loss_fears                            float64       \n",
      " 125  yougov_education_fears                           float64       \n",
      " 126  yougov_social_impact_fears                       float64       \n",
      " 127  google_mobility_change_grocery_and_pharmacy      float64       \n",
      " 128  google_mobility_change_parks                     float64       \n",
      " 129  google_mobility_change_transit_stations          float64       \n",
      " 130  google_mobility_change_retail_and_recreation     float64       \n",
      " 131  google_mobility_change_residential               float64       \n",
      " 132  google_mobility_change_workplaces                float64       \n",
      " 133  sdsn_new_cases_per_million_smoothed              float64       \n",
      " 134  sdsn_new_deaths_per_million_smoothed             float64       \n",
      " 135  sdsn_effective_reproduction_rate_smoothed        float64       \n",
      " 136  sdsn_positive_test_rate_smoothed                 float64       \n",
      " 137  sdsn_overall_transmission                        float64       \n",
      "dtypes: datetime64[ns](1), float64(134), object(3)\n",
      "memory usage: 68.1+ MB\n"
     ]
    }
   ],
   "source": [
    "data_df.info(verbose=True)"
   ]
  },
  {
   "cell_type": "code",
   "execution_count": 11,
   "id": "c171b67b",
   "metadata": {},
   "outputs": [
    {
     "name": "stdout",
     "output_type": "stream",
     "text": [
      "56.756769372736386\n"
     ]
    },
    {
     "data": {
      "text/plain": [
       "(array([3104., 2730., 1950., 3826., 4234., 5379., 6005., 7483., 6779.,\n",
       "        2941.]),\n",
       " array([  0.,  10.,  20.,  30.,  40.,  50.,  60.,  70.,  80.,  90., 100.]),\n",
       " <BarContainer object of 10 artists>)"
      ]
     },
     "execution_count": 11,
     "metadata": {},
     "output_type": "execute_result"
    },
    {
     "data": {
      "image/png": "[encoded data removed]",
      "text/plain": [
       "<Figure size 640x480 with 1 Axes>"
      ]
     },
     "metadata": {},
     "output_type": "display_data"
    }
   ],
   "source": [
    "print(data_df.owid_stringency_index.mean())\n",
    "plt.hist(data_df.owid_stringency_index)"
   ]
  },
  {
   "cell_type": "code",
   "execution_count": 25,
   "id": "38a6c884",
   "metadata": {},
   "outputs": [
    {
     "name": "stdout",
     "output_type": "stream",
     "text": [
      "363.89588323867605\n"
     ]
    },
    {
     "data": {
      "text/plain": [
       "(array([49007.,   530.,     0.,    58.,   305.,     0.,     0.,     0.,\n",
       "            0.,   305.]),\n",
       " array([1.37000000e-01, 1.93487330e+03, 3.86960960e+03, 5.80434590e+03,\n",
       "        7.73908220e+03, 9.67381850e+03, 1.16085548e+04, 1.35432911e+04,\n",
       "        1.54780274e+04, 1.74127637e+04, 1.93475000e+04]),\n",
       " <BarContainer object of 10 artists>)"
      ]
     },
     "execution_count": 25,
     "metadata": {},
     "output_type": "execute_result"
    },
    {
     "data": {
      "image/png": "[encoded data removed]",
      "text/plain": [
       "<Figure size 640x480 with 1 Axes>"
      ]
     },
     "metadata": {},
     "output_type": "display_data"
    }
   ],
   "source": [
    "print(data_df.owid_population_density.mean())\n",
    "plt.hist(data_df.owid_population_density)"
   ]
  },
  {
   "cell_type": "code",
   "execution_count": 18,
   "id": "a9204403",
   "metadata": {},
   "outputs": [
    {
     "name": "stdout",
     "output_type": "stream",
     "text": [
      "49311866.45357971\n"
     ]
    },
    {
     "name": "stderr",
     "output_type": "stream",
     "text": [
      "/var/folders/7j/zs8rg5b55zzfgwqhb9y26nsw0000gn/T/ipykernel_96238/1720192943.py:3: SettingWithCopyWarning: \n",
      "A value is trying to be set on a copy of a slice from a DataFrame\n",
      "\n",
      "See the caveats in the documentation: https://pandas.pydata.org/pandas-docs/stable/user_guide/indexing.html#returning-a-view-versus-a-copy\n",
      "  population_slice.dropna(inplace=True)\n"
     ]
    },
    {
     "data": {
      "text/plain": [
       "(array([41795.,  1730.,   299.,     0.,     0.,     0.,     0.,     0.,\n",
       "            0.,   607.]),\n",
       " array([3.48300000e+03, 1.43935512e+08, 2.87867541e+08, 4.31799570e+08,\n",
       "        5.75731599e+08, 7.19663628e+08, 8.63595658e+08, 1.00752769e+09,\n",
       "        1.15145972e+09, 1.29539174e+09, 1.43932377e+09]),\n",
       " <BarContainer object of 10 artists>)"
      ]
     },
     "execution_count": 18,
     "metadata": {},
     "output_type": "execute_result"
    },
    {
     "data": {
      "image/png": "[encoded data removed]",
      "text/plain": [
       "<Figure size 640x480 with 1 Axes>"
      ]
     },
     "metadata": {},
     "output_type": "display_data"
    }
   ],
   "source": [
    "# Is there a difference in the stringency index based on population?\n",
    "population_slice = data_df[['country','owid_population','owid_stringency_index']]\n",
    "population_slice.dropna(inplace=True)\n",
    "print(population_slice.owid_population.mean())\n",
    "plt.hist(population_slice.owid_population)"
   ]
  },
  {
   "cell_type": "code",
   "execution_count": 20,
   "id": "b9814481",
   "metadata": {},
   "outputs": [
    {
     "data": {
      "text/plain": [
       "(array([5980., 1188.,  299.,    0.,    0.,    0.,    0.,    0.,    0.,\n",
       "         607.]),\n",
       " array([5.08828840e+07, 1.89726973e+08, 3.28571062e+08, 4.67415151e+08,\n",
       "        6.06259240e+08, 7.45103329e+08, 8.83947418e+08, 1.02279151e+09,\n",
       "        1.16163560e+09, 1.30047968e+09, 1.43932377e+09]),\n",
       " <BarContainer object of 10 artists>)"
      ]
     },
     "execution_count": 20,
     "metadata": {},
     "output_type": "execute_result"
    },
    {
     "data": {
      "image/png": "[encoded data removed]",
      "text/plain": [
       "<Figure size 640x480 with 1 Axes>"
      ]
     },
     "metadata": {},
     "output_type": "display_data"
    }
   ],
   "source": [
    "# Separate the countries by low population and high population\n",
    "low_pop_slice = population_slice[population_slice.owid_population < 49311866]\n",
    "hi_pop_slice = population_slice[population_slice.owid_population >= 49311866]\n",
    "plt.hist(hi_pop_slice.owid_population)\n"
   ]
  },
  {
   "cell_type": "code",
   "execution_count": 22,
   "id": "a9d8e1fd",
   "metadata": {},
   "outputs": [
    {
     "name": "stdout",
     "output_type": "stream",
     "text": [
      "       owid_population  owid_stringency_index\n",
      "count     3.635700e+04           36357.000000\n",
      "mean      1.204694e+07              56.884189\n",
      "std       1.241974e+07              26.306648\n",
      "min       3.483000e+03               0.000000\n",
      "25%       2.722291e+06              38.890000\n",
      "50%       7.275556e+06              60.190000\n",
      "75%       1.764306e+07              78.700000\n",
      "max       4.675478e+07             100.000000\n",
      "       owid_population  owid_stringency_index\n",
      "count     8.074000e+03            8074.000000\n",
      "mean      2.171148e+08              56.183001\n",
      "std       3.473544e+08              27.300240\n",
      "min       5.088288e+07               0.000000\n",
      "25%       6.527351e+07              41.200000\n",
      "50%       1.023344e+08              63.890000\n",
      "75%       2.061396e+08              78.240000\n",
      "max       1.439324e+09             100.000000\n"
     ]
    }
   ],
   "source": [
    "print(low_pop_slice.describe())\n",
    "print(hi_pop_slice.describe())"
   ]
  },
  {
   "cell_type": "code",
   "execution_count": 24,
   "id": "acaf57aa",
   "metadata": {},
   "outputs": [
    {
     "name": "stdout",
     "output_type": "stream",
     "text": [
      "2.1515364082281354 0.031439258259659694\n"
     ]
    },
    {
     "name": "stderr",
     "output_type": "stream",
     "text": [
      "/var/folders/7j/zs8rg5b55zzfgwqhb9y26nsw0000gn/T/ipykernel_96238/3962349473.py:4: VisibleDeprecationWarning: Creating an ndarray from ragged nested sequences (which is a list-or-tuple of lists-or-tuples-or ndarrays with different lengths or shapes) is deprecated. If you meant to do this, you must specify 'dtype=object' when creating the ndarray.\n",
      "  combinedData = np.transpose(np.array([S1, S2]))\n"
     ]
    }
   ],
   "source": [
    "# Separate the stringency into two arrays to be evaluated in a t-test\n",
    "S1 = pd.to_numeric(low_pop_slice.owid_stringency_index,errors='coerce').values\n",
    "S2 = pd.to_numeric(hi_pop_slice.owid_stringency_index,errors='coerce').values\n",
    "combinedData = np.transpose(np.array([S1, S2]))\n",
    "t1,p1 = stats.ttest_ind(combinedData[0],combinedData[1])\n",
    "print(t1, p1)"
   ]
  },
  {
   "cell_type": "code",
   "execution_count": 28,
   "id": "63e3ad26",
   "metadata": {},
   "outputs": [
    {
     "name": "stdout",
     "output_type": "stream",
     "text": [
      "233.46982996176612\n"
     ]
    },
    {
     "name": "stderr",
     "output_type": "stream",
     "text": [
      "/var/folders/7j/zs8rg5b55zzfgwqhb9y26nsw0000gn/T/ipykernel_96238/540087578.py:3: SettingWithCopyWarning: \n",
      "A value is trying to be set on a copy of a slice from a DataFrame\n",
      "\n",
      "See the caveats in the documentation: https://pandas.pydata.org/pandas-docs/stable/user_guide/indexing.html#returning-a-view-versus-a-copy\n",
      "  population_density_slice.dropna(inplace=True)\n"
     ]
    },
    {
     "data": {
      "text/plain": [
       "(array([41870.,   463.,   303.,     0.,   166.,     0.,     0.,     0.,\n",
       "           58.,   295.]),\n",
       " array([1.3700000e-01, 7.9169640e+02, 1.5832558e+03, 2.3748152e+03,\n",
       "        3.1663746e+03, 3.9579340e+03, 4.7494934e+03, 5.5410528e+03,\n",
       "        6.3326122e+03, 7.1241716e+03, 7.9157310e+03]),\n",
       " <BarContainer object of 10 artists>)"
      ]
     },
     "execution_count": 28,
     "metadata": {},
     "output_type": "execute_result"
    },
    {
     "data": {
      "image/png": "[encoded data removed]",
      "text/plain": [
       "<Figure size 640x480 with 1 Axes>"
      ]
     },
     "metadata": {},
     "output_type": "display_data"
    }
   ],
   "source": [
    "# Is there a difference in the stringency index based on population density?\n",
    "population_density_slice = data_df[['country','owid_population_density','owid_stringency_index']]\n",
    "population_density_slice.dropna(inplace=True)\n",
    "population_density_slice = population_density_slice[population_density_slice.owid_population_density > 0]\n",
    "print(population_density_slice.owid_population_density.mean())\n",
    "plt.hist(population_density_slice.owid_population_density)"
   ]
  },
  {
   "cell_type": "code",
   "execution_count": 65,
   "id": "2a806cf3",
   "metadata": {},
   "outputs": [
    {
     "name": "stdout",
     "output_type": "stream",
     "text": [
      "20812.59685682517\n"
     ]
    },
    {
     "data": {
      "image/png": "[encoded data removed]",
      "text/plain": [
       "<Figure size 640x480 with 1 Axes>"
      ]
     },
     "metadata": {},
     "output_type": "display_data"
    }
   ],
   "source": [
    "# Is there a difference in the stringency index based on population density?\n",
    "\n",
    "gdp_slice = data_df[['country','owid_gdp_per_capita','owid_stringency_index', 'owid_new_cases_per_million',\n",
    "                    'owid_new_deaths_per_million', 'owid_hospital_beds_per_thousand', 'owid_handwashing_facilities',\n",
    "                    'ox_government_response_index', 'yougov_finances_fears', 'sdsn_overall_transmission', \n",
    "                     'owid_extreme_poverty' ]]\n",
    "#gdp_slice.dropna(inplace=True)\n",
    "print(gdp_slice.owid_gdp_per_capita.mean())\n",
    "#plt.hist(gdp_slice.owid_gdp_per_capita)\n",
    "#plt.hist(gdp_slice.ox_government_response_index)\n",
    "#plt.hist(gdp_slice.sdsn_overall_transmission)\n",
    "plt.hist(gdp_slice.owid_extreme_poverty)\n",
    "plt.title('Distribution of Extreme Poverty by Country')\n",
    "plt.xlabel('% of Population in Extreme Poverty')\n",
    "plt.ylabel('Count')\n",
    "plt.savefig('Distribution of Extreme Poverty All Country Counts.png')"
   ]
  },
  {
   "cell_type": "code",
   "execution_count": 36,
   "id": "026e21a8",
   "metadata": {},
   "outputs": [
    {
     "data": {
      "text/plain": [
       "(array([1706.,    0., 1346.,    0.,    0.,  643.,    0.,  122.,    0.,\n",
       "          76.]),\n",
       " array([1. , 1.4, 1.8, 2.2, 2.6, 3. , 3.4, 3.8, 4.2, 4.6, 5. ]),\n",
       " <BarContainer object of 10 artists>)"
      ]
     },
     "execution_count": 36,
     "metadata": {},
     "output_type": "execute_result"
    },
    {
     "data": {
      "image/png": "[encoded data removed]",
      "text/plain": [
       "<Figure size 640x480 with 1 Axes>"
      ]
     },
     "metadata": {},
     "output_type": "display_data"
    }
   ],
   "source": [
    "# Separate by less than 10% extreme poverty and more than 10% extreme poverty, look at transmission index\n",
    "low_extreme_poverty_df = gdp_slice[gdp_slice.owid_extreme_poverty <= 10]\n",
    "hi_extreme_poverty_df = gdp_slice[gdp_slice.owid_extreme_poverty > 10]\n",
    "plt.hist(hi_extreme_poverty_df.sdsn_overall_transmission)"
   ]
  },
  {
   "cell_type": "code",
   "execution_count": 47,
   "id": "33a3eb2e",
   "metadata": {},
   "outputs": [
    {
     "data": {
      "text/plain": [
       "(array([3855.,    0., 1645.,    0.,    0., 3908.,    0., 1507.,    0.,\n",
       "        2219.]),\n",
       " array([1. , 1.4, 1.8, 2.2, 2.6, 3. , 3.4, 3.8, 4.2, 4.6, 5. ]),\n",
       " <BarContainer object of 10 artists>)"
      ]
     },
     "execution_count": 47,
     "metadata": {},
     "output_type": "execute_result"
    },
    {
     "data": {
      "image/png": "[encoded data removed]",
      "text/plain": [
       "<Figure size 640x480 with 1 Axes>"
      ]
     },
     "metadata": {},
     "output_type": "display_data"
    }
   ],
   "source": [
    "plt.hist(low_extreme_poverty_df.sdsn_overall_transmission)"
   ]
  },
  {
   "cell_type": "code",
   "execution_count": 56,
   "id": "23adf5d3",
   "metadata": {},
   "outputs": [],
   "source": [
    "low_poverty_transmissison = pd.to_numeric(low_extreme_poverty_df['sdsn_overall_transmission'],errors='coerce').values\n",
    "low_poverty_transmissison = low_poverty_transmissison[np.isfinite(low_poverty_transmissison)]"
   ]
  },
  {
   "cell_type": "code",
   "execution_count": 57,
   "id": "a81a2d28",
   "metadata": {},
   "outputs": [],
   "source": [
    "hi_poverty_transmissison = pd.to_numeric(hi_extreme_poverty_df['sdsn_overall_transmission'],errors='coerce').values\n",
    "hi_poverty_transmissison = hi_poverty_transmissison[np.isfinite(hi_poverty_transmissison)]"
   ]
  },
  {
   "cell_type": "code",
   "execution_count": 72,
   "id": "8d90ec0b",
   "metadata": {},
   "outputs": [
    {
     "data": {
      "text/plain": [
       "3893"
      ]
     },
     "execution_count": 72,
     "metadata": {},
     "output_type": "execute_result"
    }
   ],
   "source": [
    "len(hi_poverty_transmissison)"
   ]
  },
  {
   "cell_type": "code",
   "execution_count": 58,
   "id": "69bd8bac",
   "metadata": {},
   "outputs": [
    {
     "name": "stdout",
     "output_type": "stream",
     "text": [
      "0.36521076140183745 0.0\n"
     ]
    }
   ],
   "source": [
    "d1,p1 = stats.kstest(low_poverty_transmissison, hi_poverty_transmissison)\n",
    "print(d1,p1)"
   ]
  },
  {
   "cell_type": "code",
   "execution_count": 70,
   "id": "bc0aceb4",
   "metadata": {},
   "outputs": [
    {
     "data": {
      "image/png": "[encoded data removed]",
      "text/plain": [
       "<Figure size 640x480 with 1 Axes>"
      ]
     },
     "metadata": {},
     "output_type": "display_data"
    }
   ],
   "source": [
    "# Plot the ratings of new and old\n",
    "title = 'Distributions of Overall Transmission Scores \\n Split By High and Low Extreme Poverty'\n",
    "plt.hist([low_poverty_transmissison, hi_poverty_transmissison], color=['lightgreen','darkgreen'], \n",
    "         label = ['low poverty', 'high poverty'], density = True)\n",
    "plt.xlabel(\"Overall Transmission Score\")\n",
    "plt.ylabel(\"Density\")\n",
    "plt.title(title)\n",
    "plt.legend(loc=\"upper right\")\n",
    "plt.savefig('Distributions of Overall Transmission Rate.png')"
   ]
  },
  {
   "cell_type": "code",
   "execution_count": 38,
   "id": "39a55767",
   "metadata": {},
   "outputs": [
    {
     "data": {
      "text/html": [
       "<div>\n",
       "<style scoped>\n",
       "    .dataframe tbody tr th:only-of-type {\n",
       "        vertical-align: middle;\n",
       "    }\n",
       "\n",
       "    .dataframe tbody tr th {\n",
       "        vertical-align: top;\n",
       "    }\n",
       "\n",
       "    .dataframe thead th {\n",
       "        text-align: right;\n",
       "    }\n",
       "</style>\n",
       "<table border=\"1\" class=\"dataframe\">\n",
       "  <thead>\n",
       "    <tr style=\"text-align: right;\">\n",
       "      <th></th>\n",
       "      <th>owid_gdp_per_capita</th>\n",
       "      <th>owid_stringency_index</th>\n",
       "      <th>owid_new_cases_per_million</th>\n",
       "      <th>owid_new_deaths_per_million</th>\n",
       "      <th>owid_hospital_beds_per_thousand</th>\n",
       "      <th>owid_handwashing_facilities</th>\n",
       "      <th>ox_government_response_index</th>\n",
       "      <th>yougov_finances_fears</th>\n",
       "      <th>sdsn_overall_transmission</th>\n",
       "      <th>owid_extreme_poverty</th>\n",
       "    </tr>\n",
       "  </thead>\n",
       "  <tbody>\n",
       "    <tr>\n",
       "      <th>count</th>\n",
       "      <td>21422.000000</td>\n",
       "      <td>19965.000000</td>\n",
       "      <td>21096.000000</td>\n",
       "      <td>21096.000000</td>\n",
       "      <td>20954.000000</td>\n",
       "      <td>7049.000000</td>\n",
       "      <td>19940.000000</td>\n",
       "      <td>120.000000</td>\n",
       "      <td>13134.000000</td>\n",
       "      <td>21422.00000</td>\n",
       "    </tr>\n",
       "    <tr>\n",
       "      <th>mean</th>\n",
       "      <td>22981.963347</td>\n",
       "      <td>55.968372</td>\n",
       "      <td>37.578348</td>\n",
       "      <td>0.923599</td>\n",
       "      <td>3.504424</td>\n",
       "      <td>77.386097</td>\n",
       "      <td>54.648339</td>\n",
       "      <td>60.241667</td>\n",
       "      <td>2.740369</td>\n",
       "      <td>1.63348</td>\n",
       "    </tr>\n",
       "    <tr>\n",
       "      <th>std</th>\n",
       "      <td>17150.749027</td>\n",
       "      <td>27.820311</td>\n",
       "      <td>86.002180</td>\n",
       "      <td>3.090138</td>\n",
       "      <td>2.227558</td>\n",
       "      <td>18.827722</td>\n",
       "      <td>23.691077</td>\n",
       "      <td>18.559011</td>\n",
       "      <td>1.422177</td>\n",
       "      <td>1.85336</td>\n",
       "    </tr>\n",
       "    <tr>\n",
       "      <th>min</th>\n",
       "      <td>2896.913000</td>\n",
       "      <td>0.000000</td>\n",
       "      <td>-2212.545000</td>\n",
       "      <td>-67.901000</td>\n",
       "      <td>0.600000</td>\n",
       "      <td>15.950000</td>\n",
       "      <td>0.000000</td>\n",
       "      <td>23.000000</td>\n",
       "      <td>1.000000</td>\n",
       "      <td>0.10000</td>\n",
       "    </tr>\n",
       "    <tr>\n",
       "      <th>25%</th>\n",
       "      <td>10581.936000</td>\n",
       "      <td>37.960000</td>\n",
       "      <td>0.100000</td>\n",
       "      <td>0.000000</td>\n",
       "      <td>1.710000</td>\n",
       "      <td>71.180000</td>\n",
       "      <td>45.240000</td>\n",
       "      <td>47.000000</td>\n",
       "      <td>1.000000</td>\n",
       "      <td>0.20000</td>\n",
       "    </tr>\n",
       "    <tr>\n",
       "      <th>50%</th>\n",
       "      <td>17336.469000</td>\n",
       "      <td>62.040000</td>\n",
       "      <td>6.101500</td>\n",
       "      <td>0.050000</td>\n",
       "      <td>2.910000</td>\n",
       "      <td>83.741000</td>\n",
       "      <td>61.900000</td>\n",
       "      <td>56.500000</td>\n",
       "      <td>3.000000</td>\n",
       "      <td>1.00000</td>\n",
       "    </tr>\n",
       "    <tr>\n",
       "      <th>75%</th>\n",
       "      <td>30155.152000</td>\n",
       "      <td>78.240000</td>\n",
       "      <td>40.940000</td>\n",
       "      <td>0.914000</td>\n",
       "      <td>4.510000</td>\n",
       "      <td>89.827000</td>\n",
       "      <td>70.830000</td>\n",
       "      <td>77.250000</td>\n",
       "      <td>4.000000</td>\n",
       "      <td>2.00000</td>\n",
       "    </tr>\n",
       "    <tr>\n",
       "      <th>max</th>\n",
       "      <td>94277.965000</td>\n",
       "      <td>100.000000</td>\n",
       "      <td>1892.582000</td>\n",
       "      <td>215.382000</td>\n",
       "      <td>12.270000</td>\n",
       "      <td>98.999000</td>\n",
       "      <td>91.070000</td>\n",
       "      <td>91.000000</td>\n",
       "      <td>5.000000</td>\n",
       "      <td>8.70000</td>\n",
       "    </tr>\n",
       "  </tbody>\n",
       "</table>\n",
       "</div>"
      ],
      "text/plain": [
       "       owid_gdp_per_capita  owid_stringency_index  owid_new_cases_per_million  \\\n",
       "count         21422.000000           19965.000000                21096.000000   \n",
       "mean          22981.963347              55.968372                   37.578348   \n",
       "std           17150.749027              27.820311                   86.002180   \n",
       "min            2896.913000               0.000000                -2212.545000   \n",
       "25%           10581.936000              37.960000                    0.100000   \n",
       "50%           17336.469000              62.040000                    6.101500   \n",
       "75%           30155.152000              78.240000                   40.940000   \n",
       "max           94277.965000             100.000000                 1892.582000   \n",
       "\n",
       "       owid_new_deaths_per_million  owid_hospital_beds_per_thousand  \\\n",
       "count                 21096.000000                     20954.000000   \n",
       "mean                      0.923599                         3.504424   \n",
       "std                       3.090138                         2.227558   \n",
       "min                     -67.901000                         0.600000   \n",
       "25%                       0.000000                         1.710000   \n",
       "50%                       0.050000                         2.910000   \n",
       "75%                       0.914000                         4.510000   \n",
       "max                     215.382000                        12.270000   \n",
       "\n",
       "       owid_handwashing_facilities  ox_government_response_index  \\\n",
       "count                  7049.000000                  19940.000000   \n",
       "mean                     77.386097                     54.648339   \n",
       "std                      18.827722                     23.691077   \n",
       "min                      15.950000                      0.000000   \n",
       "25%                      71.180000                     45.240000   \n",
       "50%                      83.741000                     61.900000   \n",
       "75%                      89.827000                     70.830000   \n",
       "max                      98.999000                     91.070000   \n",
       "\n",
       "       yougov_finances_fears  sdsn_overall_transmission  owid_extreme_poverty  \n",
       "count             120.000000               13134.000000           21422.00000  \n",
       "mean               60.241667                   2.740369               1.63348  \n",
       "std                18.559011                   1.422177               1.85336  \n",
       "min                23.000000                   1.000000               0.10000  \n",
       "25%                47.000000                   1.000000               0.20000  \n",
       "50%                56.500000                   3.000000               1.00000  \n",
       "75%                77.250000                   4.000000               2.00000  \n",
       "max                91.000000                   5.000000               8.70000  "
      ]
     },
     "execution_count": 38,
     "metadata": {},
     "output_type": "execute_result"
    }
   ],
   "source": [
    "low_extreme_poverty_df.describe()"
   ]
  },
  {
   "cell_type": "code",
   "execution_count": 39,
   "id": "5b42520d",
   "metadata": {},
   "outputs": [
    {
     "data": {
      "text/html": [
       "<div>\n",
       "<style scoped>\n",
       "    .dataframe tbody tr th:only-of-type {\n",
       "        vertical-align: middle;\n",
       "    }\n",
       "\n",
       "    .dataframe tbody tr th {\n",
       "        vertical-align: top;\n",
       "    }\n",
       "\n",
       "    .dataframe thead th {\n",
       "        text-align: right;\n",
       "    }\n",
       "</style>\n",
       "<table border=\"1\" class=\"dataframe\">\n",
       "  <thead>\n",
       "    <tr style=\"text-align: right;\">\n",
       "      <th></th>\n",
       "      <th>owid_gdp_per_capita</th>\n",
       "      <th>owid_stringency_index</th>\n",
       "      <th>owid_new_cases_per_million</th>\n",
       "      <th>owid_new_deaths_per_million</th>\n",
       "      <th>owid_hospital_beds_per_thousand</th>\n",
       "      <th>owid_handwashing_facilities</th>\n",
       "      <th>ox_government_response_index</th>\n",
       "      <th>yougov_finances_fears</th>\n",
       "      <th>sdsn_overall_transmission</th>\n",
       "      <th>owid_extreme_poverty</th>\n",
       "    </tr>\n",
       "  </thead>\n",
       "  <tbody>\n",
       "    <tr>\n",
       "      <th>count</th>\n",
       "      <td>9395.000000</td>\n",
       "      <td>8592.000000</td>\n",
       "      <td>9302.000000</td>\n",
       "      <td>9302.000000</td>\n",
       "      <td>7172.000000</td>\n",
       "      <td>9169.000000</td>\n",
       "      <td>8574.000000</td>\n",
       "      <td>8.00000</td>\n",
       "      <td>3893.000000</td>\n",
       "      <td>9395.000000</td>\n",
       "    </tr>\n",
       "    <tr>\n",
       "      <th>mean</th>\n",
       "      <td>3015.738128</td>\n",
       "      <td>59.601703</td>\n",
       "      <td>7.386681</td>\n",
       "      <td>0.138724</td>\n",
       "      <td>1.132402</td>\n",
       "      <td>25.610943</td>\n",
       "      <td>55.846346</td>\n",
       "      <td>72.12500</td>\n",
       "      <td>1.848189</td>\n",
       "      <td>37.080947</td>\n",
       "    </tr>\n",
       "    <tr>\n",
       "      <th>std</th>\n",
       "      <td>2451.529429</td>\n",
       "      <td>23.534693</td>\n",
       "      <td>24.047823</td>\n",
       "      <td>0.513038</td>\n",
       "      <td>1.072598</td>\n",
       "      <td>19.792931</td>\n",
       "      <td>18.520086</td>\n",
       "      <td>2.10017</td>\n",
       "      <td>0.938948</td>\n",
       "      <td>19.133482</td>\n",
       "    </tr>\n",
       "    <tr>\n",
       "      <th>min</th>\n",
       "      <td>702.225000</td>\n",
       "      <td>0.000000</td>\n",
       "      <td>-17.240000</td>\n",
       "      <td>0.000000</td>\n",
       "      <td>0.200000</td>\n",
       "      <td>1.188000</td>\n",
       "      <td>0.000000</td>\n",
       "      <td>70.00000</td>\n",
       "      <td>1.000000</td>\n",
       "      <td>10.100000</td>\n",
       "    </tr>\n",
       "    <tr>\n",
       "      <th>25%</th>\n",
       "      <td>1479.147000</td>\n",
       "      <td>43.520000</td>\n",
       "      <td>0.000000</td>\n",
       "      <td>0.000000</td>\n",
       "      <td>0.500000</td>\n",
       "      <td>8.704000</td>\n",
       "      <td>45.830000</td>\n",
       "      <td>70.00000</td>\n",
       "      <td>1.000000</td>\n",
       "      <td>21.200000</td>\n",
       "    </tr>\n",
       "    <tr>\n",
       "      <th>50%</th>\n",
       "      <td>2064.236000</td>\n",
       "      <td>62.040000</td>\n",
       "      <td>0.598000</td>\n",
       "      <td>0.000000</td>\n",
       "      <td>0.800000</td>\n",
       "      <td>19.351000</td>\n",
       "      <td>58.780000</td>\n",
       "      <td>72.00000</td>\n",
       "      <td>2.000000</td>\n",
       "      <td>36.800000</td>\n",
       "    </tr>\n",
       "    <tr>\n",
       "      <th>75%</th>\n",
       "      <td>3601.006000</td>\n",
       "      <td>78.700000</td>\n",
       "      <td>4.444500</td>\n",
       "      <td>0.060000</td>\n",
       "      <td>1.400000</td>\n",
       "      <td>43.993000</td>\n",
       "      <td>69.050000</td>\n",
       "      <td>74.00000</td>\n",
       "      <td>2.000000</td>\n",
       "      <td>49.600000</td>\n",
       "    </tr>\n",
       "    <tr>\n",
       "      <th>max</th>\n",
       "      <td>12294.876000</td>\n",
       "      <td>100.000000</td>\n",
       "      <td>711.805000</td>\n",
       "      <td>9.644000</td>\n",
       "      <td>5.900000</td>\n",
       "      <td>84.169000</td>\n",
       "      <td>95.540000</td>\n",
       "      <td>75.00000</td>\n",
       "      <td>5.000000</td>\n",
       "      <td>77.600000</td>\n",
       "    </tr>\n",
       "  </tbody>\n",
       "</table>\n",
       "</div>"
      ],
      "text/plain": [
       "       owid_gdp_per_capita  owid_stringency_index  owid_new_cases_per_million  \\\n",
       "count          9395.000000            8592.000000                 9302.000000   \n",
       "mean           3015.738128              59.601703                    7.386681   \n",
       "std            2451.529429              23.534693                   24.047823   \n",
       "min             702.225000               0.000000                  -17.240000   \n",
       "25%            1479.147000              43.520000                    0.000000   \n",
       "50%            2064.236000              62.040000                    0.598000   \n",
       "75%            3601.006000              78.700000                    4.444500   \n",
       "max           12294.876000             100.000000                  711.805000   \n",
       "\n",
       "       owid_new_deaths_per_million  owid_hospital_beds_per_thousand  \\\n",
       "count                  9302.000000                      7172.000000   \n",
       "mean                      0.138724                         1.132402   \n",
       "std                       0.513038                         1.072598   \n",
       "min                       0.000000                         0.200000   \n",
       "25%                       0.000000                         0.500000   \n",
       "50%                       0.000000                         0.800000   \n",
       "75%                       0.060000                         1.400000   \n",
       "max                       9.644000                         5.900000   \n",
       "\n",
       "       owid_handwashing_facilities  ox_government_response_index  \\\n",
       "count                  9169.000000                   8574.000000   \n",
       "mean                     25.610943                     55.846346   \n",
       "std                      19.792931                     18.520086   \n",
       "min                       1.188000                      0.000000   \n",
       "25%                       8.704000                     45.830000   \n",
       "50%                      19.351000                     58.780000   \n",
       "75%                      43.993000                     69.050000   \n",
       "max                      84.169000                     95.540000   \n",
       "\n",
       "       yougov_finances_fears  sdsn_overall_transmission  owid_extreme_poverty  \n",
       "count                8.00000                3893.000000           9395.000000  \n",
       "mean                72.12500                   1.848189             37.080947  \n",
       "std                  2.10017                   0.938948             19.133482  \n",
       "min                 70.00000                   1.000000             10.100000  \n",
       "25%                 70.00000                   1.000000             21.200000  \n",
       "50%                 72.00000                   2.000000             36.800000  \n",
       "75%                 74.00000                   2.000000             49.600000  \n",
       "max                 75.00000                   5.000000             77.600000  "
      ]
     },
     "execution_count": 39,
     "metadata": {},
     "output_type": "execute_result"
    }
   ],
   "source": [
    "hi_extreme_poverty_df.describe()"
   ]
  },
  {
   "cell_type": "code",
   "execution_count": 43,
   "id": "1df5c731",
   "metadata": {},
   "outputs": [
    {
     "data": {
      "text/plain": [
       "(array([4009.,    0., 2418.,    0.,    0., 2538.,    0.,  872.,    0.,\n",
       "        1510.]),\n",
       " array([1. , 1.4, 1.8, 2.2, 2.6, 3. , 3.4, 3.8, 4.2, 4.6, 5. ]),\n",
       " <BarContainer object of 10 artists>)"
      ]
     },
     "execution_count": 43,
     "metadata": {},
     "output_type": "execute_result"
    },
    {
     "data": {
      "image/png": "[encoded data removed]",
      "text/plain": [
       "<Figure size 640x480 with 1 Axes>"
      ]
     },
     "metadata": {},
     "output_type": "display_data"
    }
   ],
   "source": [
    "# Separate by gdp per capita\n",
    "low_gdp_df = gdp_slice[gdp_slice.owid_gdp_per_capita <= 20812]\n",
    "hi_gdp_df = gdp_slice[gdp_slice.owid_gdp_per_capita > 20812]\n",
    "plt.hist(low_gdp_df.sdsn_overall_transmission)"
   ]
  },
  {
   "cell_type": "code",
   "execution_count": 44,
   "id": "0fddfd87",
   "metadata": {},
   "outputs": [
    {
     "data": {
      "text/html": [
       "<div>\n",
       "<style scoped>\n",
       "    .dataframe tbody tr th:only-of-type {\n",
       "        vertical-align: middle;\n",
       "    }\n",
       "\n",
       "    .dataframe tbody tr th {\n",
       "        vertical-align: top;\n",
       "    }\n",
       "\n",
       "    .dataframe thead th {\n",
       "        text-align: right;\n",
       "    }\n",
       "</style>\n",
       "<table border=\"1\" class=\"dataframe\">\n",
       "  <thead>\n",
       "    <tr style=\"text-align: right;\">\n",
       "      <th></th>\n",
       "      <th>owid_gdp_per_capita</th>\n",
       "      <th>owid_stringency_index</th>\n",
       "      <th>owid_new_cases_per_million</th>\n",
       "      <th>owid_new_deaths_per_million</th>\n",
       "      <th>owid_hospital_beds_per_thousand</th>\n",
       "      <th>owid_handwashing_facilities</th>\n",
       "      <th>ox_government_response_index</th>\n",
       "      <th>yougov_finances_fears</th>\n",
       "      <th>sdsn_overall_transmission</th>\n",
       "      <th>owid_extreme_poverty</th>\n",
       "    </tr>\n",
       "  </thead>\n",
       "  <tbody>\n",
       "    <tr>\n",
       "      <th>count</th>\n",
       "      <td>28972.000000</td>\n",
       "      <td>26026.000000</td>\n",
       "      <td>28547.000000</td>\n",
       "      <td>28547.000000</td>\n",
       "      <td>25086.000000</td>\n",
       "      <td>20493.000000</td>\n",
       "      <td>26002.000000</td>\n",
       "      <td>56.000000</td>\n",
       "      <td>11347.000000</td>\n",
       "      <td>21392.000000</td>\n",
       "    </tr>\n",
       "    <tr>\n",
       "      <th>mean</th>\n",
       "      <td>8091.144999</td>\n",
       "      <td>61.143634</td>\n",
       "      <td>20.534513</td>\n",
       "      <td>0.472508</td>\n",
       "      <td>2.271753</td>\n",
       "      <td>50.685164</td>\n",
       "      <td>56.507383</td>\n",
       "      <td>75.910714</td>\n",
       "      <td>2.423284</td>\n",
       "      <td>17.583559</td>\n",
       "    </tr>\n",
       "    <tr>\n",
       "      <th>std</th>\n",
       "      <td>5640.967032</td>\n",
       "      <td>25.996898</td>\n",
       "      <td>52.474812</td>\n",
       "      <td>2.332183</td>\n",
       "      <td>1.998657</td>\n",
       "      <td>31.289166</td>\n",
       "      <td>20.894985</td>\n",
       "      <td>11.040877</td>\n",
       "      <td>1.379510</td>\n",
       "      <td>21.467556</td>\n",
       "    </tr>\n",
       "    <tr>\n",
       "      <th>min</th>\n",
       "      <td>661.240000</td>\n",
       "      <td>0.000000</td>\n",
       "      <td>-468.229000</td>\n",
       "      <td>-67.901000</td>\n",
       "      <td>0.100000</td>\n",
       "      <td>1.188000</td>\n",
       "      <td>0.000000</td>\n",
       "      <td>50.000000</td>\n",
       "      <td>1.000000</td>\n",
       "      <td>0.100000</td>\n",
       "    </tr>\n",
       "    <tr>\n",
       "      <th>25%</th>\n",
       "      <td>2851.153000</td>\n",
       "      <td>45.370000</td>\n",
       "      <td>0.000000</td>\n",
       "      <td>0.000000</td>\n",
       "      <td>0.800000</td>\n",
       "      <td>20.859000</td>\n",
       "      <td>47.620000</td>\n",
       "      <td>72.000000</td>\n",
       "      <td>1.000000</td>\n",
       "      <td>1.400000</td>\n",
       "    </tr>\n",
       "    <tr>\n",
       "      <th>50%</th>\n",
       "      <td>7423.808000</td>\n",
       "      <td>67.590000</td>\n",
       "      <td>1.430000</td>\n",
       "      <td>0.000000</td>\n",
       "      <td>1.600000</td>\n",
       "      <td>49.839000</td>\n",
       "      <td>61.900000</td>\n",
       "      <td>78.000000</td>\n",
       "      <td>2.000000</td>\n",
       "      <td>5.000000</td>\n",
       "    </tr>\n",
       "    <tr>\n",
       "      <th>75%</th>\n",
       "      <td>13111.214000</td>\n",
       "      <td>80.560000</td>\n",
       "      <td>14.386500</td>\n",
       "      <td>0.226000</td>\n",
       "      <td>2.900000</td>\n",
       "      <td>80.635000</td>\n",
       "      <td>70.830000</td>\n",
       "      <td>83.000000</td>\n",
       "      <td>3.000000</td>\n",
       "      <td>30.300000</td>\n",
       "    </tr>\n",
       "    <tr>\n",
       "      <th>max</th>\n",
       "      <td>20551.409000</td>\n",
       "      <td>100.000000</td>\n",
       "      <td>1763.437000</td>\n",
       "      <td>215.382000</td>\n",
       "      <td>11.000000</td>\n",
       "      <td>97.719000</td>\n",
       "      <td>95.540000</td>\n",
       "      <td>91.000000</td>\n",
       "      <td>5.000000</td>\n",
       "      <td>77.600000</td>\n",
       "    </tr>\n",
       "  </tbody>\n",
       "</table>\n",
       "</div>"
      ],
      "text/plain": [
       "       owid_gdp_per_capita  owid_stringency_index  owid_new_cases_per_million  \\\n",
       "count         28972.000000           26026.000000                28547.000000   \n",
       "mean           8091.144999              61.143634                   20.534513   \n",
       "std            5640.967032              25.996898                   52.474812   \n",
       "min             661.240000               0.000000                 -468.229000   \n",
       "25%            2851.153000              45.370000                    0.000000   \n",
       "50%            7423.808000              67.590000                    1.430000   \n",
       "75%           13111.214000              80.560000                   14.386500   \n",
       "max           20551.409000             100.000000                 1763.437000   \n",
       "\n",
       "       owid_new_deaths_per_million  owid_hospital_beds_per_thousand  \\\n",
       "count                 28547.000000                     25086.000000   \n",
       "mean                      0.472508                         2.271753   \n",
       "std                       2.332183                         1.998657   \n",
       "min                     -67.901000                         0.100000   \n",
       "25%                       0.000000                         0.800000   \n",
       "50%                       0.000000                         1.600000   \n",
       "75%                       0.226000                         2.900000   \n",
       "max                     215.382000                        11.000000   \n",
       "\n",
       "       owid_handwashing_facilities  ox_government_response_index  \\\n",
       "count                 20493.000000                  26002.000000   \n",
       "mean                     50.685164                     56.507383   \n",
       "std                      31.289166                     20.894985   \n",
       "min                       1.188000                      0.000000   \n",
       "25%                      20.859000                     47.620000   \n",
       "50%                      49.839000                     61.900000   \n",
       "75%                      80.635000                     70.830000   \n",
       "max                      97.719000                     95.540000   \n",
       "\n",
       "       yougov_finances_fears  sdsn_overall_transmission  owid_extreme_poverty  \n",
       "count              56.000000               11347.000000          21392.000000  \n",
       "mean               75.910714                   2.423284             17.583559  \n",
       "std                11.040877                   1.379510             21.467556  \n",
       "min                50.000000                   1.000000              0.100000  \n",
       "25%                72.000000                   1.000000              1.400000  \n",
       "50%                78.000000                   2.000000              5.000000  \n",
       "75%                83.000000                   3.000000             30.300000  \n",
       "max                91.000000                   5.000000             77.600000  "
      ]
     },
     "execution_count": 44,
     "metadata": {},
     "output_type": "execute_result"
    }
   ],
   "source": [
    "low_gdp_df.describe()"
   ]
  },
  {
   "cell_type": "code",
   "execution_count": 46,
   "id": "d0a509f6",
   "metadata": {},
   "outputs": [
    {
     "data": {
      "text/html": [
       "<div>\n",
       "<style scoped>\n",
       "    .dataframe tbody tr th:only-of-type {\n",
       "        vertical-align: middle;\n",
       "    }\n",
       "\n",
       "    .dataframe tbody tr th {\n",
       "        vertical-align: top;\n",
       "    }\n",
       "\n",
       "    .dataframe thead th {\n",
       "        text-align: right;\n",
       "    }\n",
       "</style>\n",
       "<table border=\"1\" class=\"dataframe\">\n",
       "  <thead>\n",
       "    <tr style=\"text-align: right;\">\n",
       "      <th></th>\n",
       "      <th>owid_gdp_per_capita</th>\n",
       "      <th>owid_stringency_index</th>\n",
       "      <th>owid_new_cases_per_million</th>\n",
       "      <th>owid_new_deaths_per_million</th>\n",
       "      <th>owid_hospital_beds_per_thousand</th>\n",
       "      <th>owid_handwashing_facilities</th>\n",
       "      <th>ox_government_response_index</th>\n",
       "      <th>yougov_finances_fears</th>\n",
       "      <th>sdsn_overall_transmission</th>\n",
       "      <th>owid_extreme_poverty</th>\n",
       "    </tr>\n",
       "  </thead>\n",
       "  <tbody>\n",
       "    <tr>\n",
       "      <th>count</th>\n",
       "      <td>17517.000000</td>\n",
       "      <td>15711.000000</td>\n",
       "      <td>17303.000000</td>\n",
       "      <td>17303.000000</td>\n",
       "      <td>16328.000000</td>\n",
       "      <td>999.000000</td>\n",
       "      <td>15582.000000</td>\n",
       "      <td>137.000000</td>\n",
       "      <td>11588.000000</td>\n",
       "      <td>9425.000000</td>\n",
       "    </tr>\n",
       "    <tr>\n",
       "      <th>mean</th>\n",
       "      <td>41853.066299</td>\n",
       "      <td>50.349218</td>\n",
       "      <td>48.950744</td>\n",
       "      <td>0.857423</td>\n",
       "      <td>4.202867</td>\n",
       "      <td>79.171916</td>\n",
       "      <td>51.991302</td>\n",
       "      <td>55.204380</td>\n",
       "      <td>2.919917</td>\n",
       "      <td>0.766090</td>\n",
       "    </tr>\n",
       "    <tr>\n",
       "      <th>std</th>\n",
       "      <td>18628.330792</td>\n",
       "      <td>26.660337</td>\n",
       "      <td>118.060614</td>\n",
       "      <td>3.332699</td>\n",
       "      <td>2.439905</td>\n",
       "      <td>30.046311</td>\n",
       "      <td>23.949003</td>\n",
       "      <td>15.452079</td>\n",
       "      <td>1.413777</td>\n",
       "      <td>1.038835</td>\n",
       "    </tr>\n",
       "    <tr>\n",
       "      <th>min</th>\n",
       "      <td>21490.943000</td>\n",
       "      <td>0.000000</td>\n",
       "      <td>-2212.545000</td>\n",
       "      <td>-41.023000</td>\n",
       "      <td>1.200000</td>\n",
       "      <td>24.640000</td>\n",
       "      <td>0.000000</td>\n",
       "      <td>23.000000</td>\n",
       "      <td>1.000000</td>\n",
       "      <td>0.100000</td>\n",
       "    </tr>\n",
       "    <tr>\n",
       "      <th>25%</th>\n",
       "      <td>27936.896000</td>\n",
       "      <td>33.330000</td>\n",
       "      <td>0.000000</td>\n",
       "      <td>0.000000</td>\n",
       "      <td>2.540000</td>\n",
       "      <td>89.443000</td>\n",
       "      <td>41.670000</td>\n",
       "      <td>45.000000</td>\n",
       "      <td>2.000000</td>\n",
       "      <td>0.200000</td>\n",
       "    </tr>\n",
       "    <tr>\n",
       "      <th>50%</th>\n",
       "      <td>36513.323000</td>\n",
       "      <td>52.780000</td>\n",
       "      <td>8.177000</td>\n",
       "      <td>0.000000</td>\n",
       "      <td>3.320000</td>\n",
       "      <td>97.400000</td>\n",
       "      <td>58.630000</td>\n",
       "      <td>56.000000</td>\n",
       "      <td>3.000000</td>\n",
       "      <td>0.500000</td>\n",
       "    </tr>\n",
       "    <tr>\n",
       "      <th>75%</th>\n",
       "      <td>46949.283000</td>\n",
       "      <td>72.690000</td>\n",
       "      <td>45.374500</td>\n",
       "      <td>0.576000</td>\n",
       "      <td>5.570000</td>\n",
       "      <td>97.400000</td>\n",
       "      <td>69.640000</td>\n",
       "      <td>66.000000</td>\n",
       "      <td>4.000000</td>\n",
       "      <td>0.700000</td>\n",
       "    </tr>\n",
       "    <tr>\n",
       "      <th>max</th>\n",
       "      <td>116935.600000</td>\n",
       "      <td>100.000000</td>\n",
       "      <td>2209.912000</td>\n",
       "      <td>176.793000</td>\n",
       "      <td>13.050000</td>\n",
       "      <td>98.999000</td>\n",
       "      <td>92.260000</td>\n",
       "      <td>85.000000</td>\n",
       "      <td>5.000000</td>\n",
       "      <td>5.700000</td>\n",
       "    </tr>\n",
       "  </tbody>\n",
       "</table>\n",
       "</div>"
      ],
      "text/plain": [
       "       owid_gdp_per_capita  owid_stringency_index  owid_new_cases_per_million  \\\n",
       "count         17517.000000           15711.000000                17303.000000   \n",
       "mean          41853.066299              50.349218                   48.950744   \n",
       "std           18628.330792              26.660337                  118.060614   \n",
       "min           21490.943000               0.000000                -2212.545000   \n",
       "25%           27936.896000              33.330000                    0.000000   \n",
       "50%           36513.323000              52.780000                    8.177000   \n",
       "75%           46949.283000              72.690000                   45.374500   \n",
       "max          116935.600000             100.000000                 2209.912000   \n",
       "\n",
       "       owid_new_deaths_per_million  owid_hospital_beds_per_thousand  \\\n",
       "count                 17303.000000                     16328.000000   \n",
       "mean                      0.857423                         4.202867   \n",
       "std                       3.332699                         2.439905   \n",
       "min                     -41.023000                         1.200000   \n",
       "25%                       0.000000                         2.540000   \n",
       "50%                       0.000000                         3.320000   \n",
       "75%                       0.576000                         5.570000   \n",
       "max                     176.793000                        13.050000   \n",
       "\n",
       "       owid_handwashing_facilities  ox_government_response_index  \\\n",
       "count                   999.000000                  15582.000000   \n",
       "mean                     79.171916                     51.991302   \n",
       "std                      30.046311                     23.949003   \n",
       "min                      24.640000                      0.000000   \n",
       "25%                      89.443000                     41.670000   \n",
       "50%                      97.400000                     58.630000   \n",
       "75%                      97.400000                     69.640000   \n",
       "max                      98.999000                     92.260000   \n",
       "\n",
       "       yougov_finances_fears  sdsn_overall_transmission  owid_extreme_poverty  \n",
       "count             137.000000               11588.000000           9425.000000  \n",
       "mean               55.204380                   2.919917              0.766090  \n",
       "std                15.452079                   1.413777              1.038835  \n",
       "min                23.000000                   1.000000              0.100000  \n",
       "25%                45.000000                   2.000000              0.200000  \n",
       "50%                56.000000                   3.000000              0.500000  \n",
       "75%                66.000000                   4.000000              0.700000  \n",
       "max                85.000000                   5.000000              5.700000  "
      ]
     },
     "execution_count": 46,
     "metadata": {},
     "output_type": "execute_result"
    }
   ],
   "source": [
    "hi_gdp_df.describe()"
   ]
  },
  {
   "cell_type": "code",
   "execution_count": 10,
   "id": "a8e865d6",
   "metadata": {},
   "outputs": [
    {
     "data": {
      "text/plain": [
       "{'Afghanistan',\n",
       " 'Albania',\n",
       " 'Algeria',\n",
       " 'Andorra',\n",
       " 'Angola',\n",
       " 'Anguilla',\n",
       " 'Antigua and Barbuda',\n",
       " 'Argentina',\n",
       " 'Armenia',\n",
       " 'Aruba',\n",
       " 'Australia',\n",
       " 'Austria',\n",
       " 'Azerbaijan',\n",
       " 'Bahamas, The',\n",
       " 'Bahrain',\n",
       " 'Bangladesh',\n",
       " 'Barbados',\n",
       " 'Belarus',\n",
       " 'Belgium',\n",
       " 'Belize',\n",
       " 'Benin',\n",
       " 'Bermuda',\n",
       " 'Bhutan',\n",
       " 'Bolivia',\n",
       " 'Bosnia and Herzegovina',\n",
       " 'Botswana',\n",
       " 'Brazil',\n",
       " 'British Virgin Islands',\n",
       " 'Brunei Darussalam',\n",
       " 'Bulgaria',\n",
       " 'Burkina Faso',\n",
       " 'Burundi',\n",
       " 'Cabo Verde',\n",
       " 'Cambodia',\n",
       " 'Cameroon',\n",
       " 'Canada',\n",
       " 'Caribbean Netherlands',\n",
       " 'Cayman Islands',\n",
       " 'Central African Republic',\n",
       " 'Chad',\n",
       " 'Chile',\n",
       " 'China',\n",
       " 'Colombia',\n",
       " 'Comoros',\n",
       " 'Congo, Dem. Rep.',\n",
       " 'Congo, Rep.',\n",
       " 'Costa Rica',\n",
       " \"Cote d'Ivoire\",\n",
       " 'Croatia',\n",
       " 'Cuba',\n",
       " 'Curaçao',\n",
       " 'Cyprus',\n",
       " 'Czech Republic',\n",
       " 'Denmark',\n",
       " 'Djibouti',\n",
       " 'Dominica',\n",
       " 'Dominican Republic',\n",
       " 'Ecuador',\n",
       " 'Egypt, Arab Rep.',\n",
       " 'El Salvador',\n",
       " 'Equatorial Guinea',\n",
       " 'Eritrea',\n",
       " 'Estonia',\n",
       " 'Eswatini',\n",
       " 'Ethiopia',\n",
       " 'Falkland Islands',\n",
       " 'Faroe Islands',\n",
       " 'Fiji',\n",
       " 'Finland',\n",
       " 'France',\n",
       " 'French Polynesia',\n",
       " 'Gabon',\n",
       " 'Gambia, The',\n",
       " 'Georgia',\n",
       " 'Germany',\n",
       " 'Ghana',\n",
       " 'Gibraltar',\n",
       " 'Greece',\n",
       " 'Greenland',\n",
       " 'Grenada',\n",
       " 'Guam',\n",
       " 'Guatemala',\n",
       " 'Guernsey',\n",
       " 'Guinea',\n",
       " 'Guinea-Bissau',\n",
       " 'Guyana',\n",
       " 'Haiti',\n",
       " 'Honduras',\n",
       " 'Hong Kong SAR China',\n",
       " 'Hungary',\n",
       " 'Iceland',\n",
       " 'India',\n",
       " 'Indonesia',\n",
       " 'Iran, Islamic Rep.',\n",
       " 'Iraq',\n",
       " 'Ireland',\n",
       " 'Isle of Man',\n",
       " 'Israel',\n",
       " 'Italy',\n",
       " 'Jamaica',\n",
       " 'Japan',\n",
       " 'Jersey',\n",
       " 'Jordan',\n",
       " 'Kazakhstan',\n",
       " 'Kenya',\n",
       " 'Korea, Rep.',\n",
       " 'Kuwait',\n",
       " 'Kyrgyz Republic',\n",
       " 'Lao PDR',\n",
       " 'Latvia',\n",
       " 'Lebanon',\n",
       " 'Lesotho',\n",
       " 'Liberia',\n",
       " 'Libya',\n",
       " 'Liechtenstein',\n",
       " 'Lithuania',\n",
       " 'Luxembourg',\n",
       " 'Macao SAR China',\n",
       " 'Madagascar',\n",
       " 'Malawi',\n",
       " 'Malaysia',\n",
       " 'Maldives',\n",
       " 'Mali',\n",
       " 'Malta',\n",
       " 'Marshall Islands',\n",
       " 'Mauritania',\n",
       " 'Mauritius',\n",
       " 'Mexico',\n",
       " 'Moldova',\n",
       " 'Monaco',\n",
       " 'Mongolia',\n",
       " 'Montenegro',\n",
       " 'Montserrat',\n",
       " 'Morocco',\n",
       " 'Mozambique',\n",
       " 'Myanmar',\n",
       " 'Namibia',\n",
       " 'Nepal',\n",
       " 'Netherlands',\n",
       " 'New Caledonia',\n",
       " 'New Zealand',\n",
       " 'Nicaragua',\n",
       " 'Niger',\n",
       " 'Nigeria',\n",
       " 'North Macedonia',\n",
       " 'Northern Mariana Islands',\n",
       " 'Norway',\n",
       " 'Oman',\n",
       " 'Pakistan',\n",
       " 'Panama',\n",
       " 'Papua New Guinea',\n",
       " 'Paraguay',\n",
       " 'Peru',\n",
       " 'Philippines',\n",
       " 'Pitcairn Islands',\n",
       " 'Poland',\n",
       " 'Portugal',\n",
       " 'Puerto Rico',\n",
       " 'Qatar',\n",
       " 'Romania',\n",
       " 'Russian Federation',\n",
       " 'Rwanda',\n",
       " 'Réunion',\n",
       " 'San Marino',\n",
       " 'Sao Tome and Principe',\n",
       " 'Saudi Arabia',\n",
       " 'Senegal',\n",
       " 'Serbia',\n",
       " 'Seychelles',\n",
       " 'Sierra Leone',\n",
       " 'Singapore',\n",
       " 'Sint Maarten',\n",
       " 'Slovak Republic',\n",
       " 'Slovenia',\n",
       " 'Solomon Islands',\n",
       " 'Somalia',\n",
       " 'South Africa',\n",
       " 'South Sudan',\n",
       " 'Spain',\n",
       " 'Sri Lanka',\n",
       " 'St. Kitts and Nevis',\n",
       " 'St. Lucia',\n",
       " 'St. Vincent and the Grenadines',\n",
       " 'State of Palestine',\n",
       " 'Sudan',\n",
       " 'Suriname',\n",
       " 'Sweden',\n",
       " 'Switzerland',\n",
       " 'Syrian Arab Republic',\n",
       " 'Taiwan',\n",
       " 'Tajikistan',\n",
       " 'Tanzania',\n",
       " 'Thailand',\n",
       " 'Timor-Leste',\n",
       " 'Togo',\n",
       " 'Trinidad and Tobago',\n",
       " 'Tunisia',\n",
       " 'Turkey',\n",
       " 'Turkmenistan',\n",
       " 'Turks & Caicos Islands',\n",
       " 'U.S. Virgin Islands',\n",
       " 'Uganda',\n",
       " 'Ukraine',\n",
       " 'United Arab Emirates',\n",
       " 'United Kingdom',\n",
       " 'United States',\n",
       " 'Uruguay',\n",
       " 'Uzbekistan',\n",
       " 'Vanuatu',\n",
       " 'Vatican City',\n",
       " 'Venezuela, RB',\n",
       " 'Vietnam',\n",
       " 'Wallis & Futuna',\n",
       " 'Western Sahara',\n",
       " 'Yemen, Rep.',\n",
       " 'Zambia',\n",
       " 'Zimbabwe',\n",
       " nan}"
      ]
     },
     "execution_count": 10,
     "metadata": {},
     "output_type": "execute_result"
    }
   ],
   "source": [
    "# Pulling a country list: 218 countries\n",
    "countries = list(data_df['country'])\n",
    "countries = set(countries)\n",
    "countries"
   ]
  },
  {
   "cell_type": "code",
   "execution_count": 18,
   "id": "d2a5f789",
   "metadata": {},
   "outputs": [
    {
     "data": {
      "text/plain": [
       "(array([55.,  0.,  0.,  0.,  0.,  0.,  0.,  0.,  0., 74.]),\n",
       " array([0. , 0.1, 0.2, 0.3, 0.4, 0.5, 0.6, 0.7, 0.8, 0.9, 1. ]),\n",
       " <BarContainer object of 10 artists>)"
      ]
     },
     "execution_count": 18,
     "metadata": {},
     "output_type": "execute_result"
    },
    {
     "data": {
      "image/png": "[encoded data removed]",
      "text/plain": [
       "<Figure size 640x480 with 1 Axes>"
      ]
     },
     "metadata": {},
     "output_type": "display_data"
    }
   ],
   "source": [
    "aruba_df = data_df[data_df['country'] == 'Aruba']\n",
    "plt.hist(aruba_df['ox_c4_flag'])"
   ]
  },
  {
   "cell_type": "code",
   "execution_count": 25,
   "id": "df5d00d9",
   "metadata": {},
   "outputs": [
    {
     "data": {
      "text/plain": [
       "(array([19856.,  1061.,  4805.,  3412.,     0.,  7686.,  4601.,  6786.,\n",
       "         2982.,  2465.]),\n",
       " array([  0.,  10.,  20.,  30.,  40.,  50.,  60.,  70.,  80.,  90., 100.]),\n",
       " <BarContainer object of 10 artists>)"
      ]
     },
     "execution_count": 25,
     "metadata": {},
     "output_type": "execute_result"
    },
    {
     "data": {
      "image/png": "[encoded data removed]",
      "text/plain": [
       "<Figure size 640x480 with 1 Axes>"
      ]
     },
     "metadata": {},
     "output_type": "display_data"
    }
   ],
   "source": [
    "US_df = data_df[data_df['country'] == 'United States']\n",
    "plt.hist(data_df['ox_economic_support_index'])"
   ]
  },
  {
   "cell_type": "code",
   "execution_count": 32,
   "id": "a57c9805",
   "metadata": {},
   "outputs": [
    {
     "ename": "ValueError",
     "evalue": "shape mismatch: objects cannot be broadcast to a single shape.  Mismatch is between arg 0 with shape (305,) and arg 1 with shape (64675,).",
     "output_type": "error",
     "traceback": [
      "\u001b[0;31m---------------------------------------------------------------------------\u001b[0m",
      "\u001b[0;31mValueError\u001b[0m                                Traceback (most recent call last)",
      "Input \u001b[0;32mIn [32]\u001b[0m, in \u001b[0;36m<cell line: 4>\u001b[0;34m()\u001b[0m\n\u001b[1;32m      2\u001b[0m y \u001b[38;5;241m=\u001b[39m data_df[\u001b[38;5;124m'\u001b[39m\u001b[38;5;124mox_economic_support_index\u001b[39m\u001b[38;5;124m'\u001b[39m]\n\u001b[1;32m      3\u001b[0m ax \u001b[38;5;241m=\u001b[39m plt\u001b[38;5;241m.\u001b[39msubplot()\n\u001b[0;32m----> 4\u001b[0m \u001b[43max\u001b[49m\u001b[38;5;241;43m.\u001b[39;49m\u001b[43mbar\u001b[49m\u001b[43m(\u001b[49m\u001b[43mx\u001b[49m\u001b[43m,\u001b[49m\u001b[43my\u001b[49m\u001b[43m \u001b[49m\u001b[43m)\u001b[49m\n\u001b[1;32m      5\u001b[0m plt\u001b[38;5;241m.\u001b[39mshow()\n",
      "File \u001b[0;32m~/Anaconda3/anaconda3/envs/py38/lib/python3.8/site-packages/matplotlib/__init__.py:1412\u001b[0m, in \u001b[0;36m_preprocess_data.<locals>.inner\u001b[0;34m(ax, data, *args, **kwargs)\u001b[0m\n\u001b[1;32m   1409\u001b[0m \u001b[38;5;129m@functools\u001b[39m\u001b[38;5;241m.\u001b[39mwraps(func)\n\u001b[1;32m   1410\u001b[0m \u001b[38;5;28;01mdef\u001b[39;00m \u001b[38;5;21minner\u001b[39m(ax, \u001b[38;5;241m*\u001b[39margs, data\u001b[38;5;241m=\u001b[39m\u001b[38;5;28;01mNone\u001b[39;00m, \u001b[38;5;241m*\u001b[39m\u001b[38;5;241m*\u001b[39mkwargs):\n\u001b[1;32m   1411\u001b[0m     \u001b[38;5;28;01mif\u001b[39;00m data \u001b[38;5;129;01mis\u001b[39;00m \u001b[38;5;28;01mNone\u001b[39;00m:\n\u001b[0;32m-> 1412\u001b[0m         \u001b[38;5;28;01mreturn\u001b[39;00m \u001b[43mfunc\u001b[49m\u001b[43m(\u001b[49m\u001b[43max\u001b[49m\u001b[43m,\u001b[49m\u001b[43m \u001b[49m\u001b[38;5;241;43m*\u001b[39;49m\u001b[38;5;28;43mmap\u001b[39;49m\u001b[43m(\u001b[49m\u001b[43msanitize_sequence\u001b[49m\u001b[43m,\u001b[49m\u001b[43m \u001b[49m\u001b[43margs\u001b[49m\u001b[43m)\u001b[49m\u001b[43m,\u001b[49m\u001b[43m \u001b[49m\u001b[38;5;241;43m*\u001b[39;49m\u001b[38;5;241;43m*\u001b[39;49m\u001b[43mkwargs\u001b[49m\u001b[43m)\u001b[49m\n\u001b[1;32m   1414\u001b[0m     bound \u001b[38;5;241m=\u001b[39m new_sig\u001b[38;5;241m.\u001b[39mbind(ax, \u001b[38;5;241m*\u001b[39margs, \u001b[38;5;241m*\u001b[39m\u001b[38;5;241m*\u001b[39mkwargs)\n\u001b[1;32m   1415\u001b[0m     auto_label \u001b[38;5;241m=\u001b[39m (bound\u001b[38;5;241m.\u001b[39marguments\u001b[38;5;241m.\u001b[39mget(label_namer)\n\u001b[1;32m   1416\u001b[0m                   \u001b[38;5;129;01mor\u001b[39;00m bound\u001b[38;5;241m.\u001b[39mkwargs\u001b[38;5;241m.\u001b[39mget(label_namer))\n",
      "File \u001b[0;32m~/Anaconda3/anaconda3/envs/py38/lib/python3.8/site-packages/matplotlib/axes/_axes.py:2342\u001b[0m, in \u001b[0;36mAxes.bar\u001b[0;34m(self, x, height, width, bottom, align, **kwargs)\u001b[0m\n\u001b[1;32m   2339\u001b[0m     \u001b[38;5;28;01mif\u001b[39;00m yerr \u001b[38;5;129;01mis\u001b[39;00m \u001b[38;5;129;01mnot\u001b[39;00m \u001b[38;5;28;01mNone\u001b[39;00m:\n\u001b[1;32m   2340\u001b[0m         yerr \u001b[38;5;241m=\u001b[39m \u001b[38;5;28mself\u001b[39m\u001b[38;5;241m.\u001b[39m_convert_dx(yerr, y0, y, \u001b[38;5;28mself\u001b[39m\u001b[38;5;241m.\u001b[39mconvert_yunits)\n\u001b[0;32m-> 2342\u001b[0m x, height, width, y, linewidth, hatch \u001b[38;5;241m=\u001b[39m \u001b[43mnp\u001b[49m\u001b[38;5;241;43m.\u001b[39;49m\u001b[43mbroadcast_arrays\u001b[49m\u001b[43m(\u001b[49m\n\u001b[1;32m   2343\u001b[0m \u001b[43m    \u001b[49m\u001b[38;5;66;43;03m# Make args iterable too.\u001b[39;49;00m\n\u001b[1;32m   2344\u001b[0m \u001b[43m    \u001b[49m\u001b[43mnp\u001b[49m\u001b[38;5;241;43m.\u001b[39;49m\u001b[43matleast_1d\u001b[49m\u001b[43m(\u001b[49m\u001b[43mx\u001b[49m\u001b[43m)\u001b[49m\u001b[43m,\u001b[49m\u001b[43m \u001b[49m\u001b[43mheight\u001b[49m\u001b[43m,\u001b[49m\u001b[43m \u001b[49m\u001b[43mwidth\u001b[49m\u001b[43m,\u001b[49m\u001b[43m \u001b[49m\u001b[43my\u001b[49m\u001b[43m,\u001b[49m\u001b[43m \u001b[49m\u001b[43mlinewidth\u001b[49m\u001b[43m,\u001b[49m\u001b[43m \u001b[49m\u001b[43mhatch\u001b[49m\u001b[43m)\u001b[49m\n\u001b[1;32m   2346\u001b[0m \u001b[38;5;66;03m# Now that units have been converted, set the tick locations.\u001b[39;00m\n\u001b[1;32m   2347\u001b[0m \u001b[38;5;28;01mif\u001b[39;00m orientation \u001b[38;5;241m==\u001b[39m \u001b[38;5;124m'\u001b[39m\u001b[38;5;124mvertical\u001b[39m\u001b[38;5;124m'\u001b[39m:\n",
      "File \u001b[0;32m<__array_function__ internals>:180\u001b[0m, in \u001b[0;36mbroadcast_arrays\u001b[0;34m(*args, **kwargs)\u001b[0m\n",
      "File \u001b[0;32m~/Anaconda3/anaconda3/envs/py38/lib/python3.8/site-packages/numpy/lib/stride_tricks.py:540\u001b[0m, in \u001b[0;36mbroadcast_arrays\u001b[0;34m(subok, *args)\u001b[0m\n\u001b[1;32m    533\u001b[0m \u001b[38;5;66;03m# nditer is not used here to avoid the limit of 32 arrays.\u001b[39;00m\n\u001b[1;32m    534\u001b[0m \u001b[38;5;66;03m# Otherwise, something like the following one-liner would suffice:\u001b[39;00m\n\u001b[1;32m    535\u001b[0m \u001b[38;5;66;03m# return np.nditer(args, flags=['multi_index', 'zerosize_ok'],\u001b[39;00m\n\u001b[1;32m    536\u001b[0m \u001b[38;5;66;03m#                  order='C').itviews\u001b[39;00m\n\u001b[1;32m    538\u001b[0m args \u001b[38;5;241m=\u001b[39m [np\u001b[38;5;241m.\u001b[39marray(_m, copy\u001b[38;5;241m=\u001b[39m\u001b[38;5;28;01mFalse\u001b[39;00m, subok\u001b[38;5;241m=\u001b[39msubok) \u001b[38;5;28;01mfor\u001b[39;00m _m \u001b[38;5;129;01min\u001b[39;00m args]\n\u001b[0;32m--> 540\u001b[0m shape \u001b[38;5;241m=\u001b[39m \u001b[43m_broadcast_shape\u001b[49m\u001b[43m(\u001b[49m\u001b[38;5;241;43m*\u001b[39;49m\u001b[43margs\u001b[49m\u001b[43m)\u001b[49m\n\u001b[1;32m    542\u001b[0m \u001b[38;5;28;01mif\u001b[39;00m \u001b[38;5;28mall\u001b[39m(array\u001b[38;5;241m.\u001b[39mshape \u001b[38;5;241m==\u001b[39m shape \u001b[38;5;28;01mfor\u001b[39;00m array \u001b[38;5;129;01min\u001b[39;00m args):\n\u001b[1;32m    543\u001b[0m     \u001b[38;5;66;03m# Common case where nothing needs to be broadcasted.\u001b[39;00m\n\u001b[1;32m    544\u001b[0m     \u001b[38;5;28;01mreturn\u001b[39;00m args\n",
      "File \u001b[0;32m~/Anaconda3/anaconda3/envs/py38/lib/python3.8/site-packages/numpy/lib/stride_tricks.py:422\u001b[0m, in \u001b[0;36m_broadcast_shape\u001b[0;34m(*args)\u001b[0m\n\u001b[1;32m    417\u001b[0m \u001b[38;5;124;03m\"\"\"Returns the shape of the arrays that would result from broadcasting the\u001b[39;00m\n\u001b[1;32m    418\u001b[0m \u001b[38;5;124;03msupplied arrays against each other.\u001b[39;00m\n\u001b[1;32m    419\u001b[0m \u001b[38;5;124;03m\"\"\"\u001b[39;00m\n\u001b[1;32m    420\u001b[0m \u001b[38;5;66;03m# use the old-iterator because np.nditer does not handle size 0 arrays\u001b[39;00m\n\u001b[1;32m    421\u001b[0m \u001b[38;5;66;03m# consistently\u001b[39;00m\n\u001b[0;32m--> 422\u001b[0m b \u001b[38;5;241m=\u001b[39m \u001b[43mnp\u001b[49m\u001b[38;5;241;43m.\u001b[39;49m\u001b[43mbroadcast\u001b[49m\u001b[43m(\u001b[49m\u001b[38;5;241;43m*\u001b[39;49m\u001b[43margs\u001b[49m\u001b[43m[\u001b[49m\u001b[43m:\u001b[49m\u001b[38;5;241;43m32\u001b[39;49m\u001b[43m]\u001b[49m\u001b[43m)\u001b[49m\n\u001b[1;32m    423\u001b[0m \u001b[38;5;66;03m# unfortunately, it cannot handle 32 or more arguments directly\u001b[39;00m\n\u001b[1;32m    424\u001b[0m \u001b[38;5;28;01mfor\u001b[39;00m pos \u001b[38;5;129;01min\u001b[39;00m \u001b[38;5;28mrange\u001b[39m(\u001b[38;5;241m32\u001b[39m, \u001b[38;5;28mlen\u001b[39m(args), \u001b[38;5;241m31\u001b[39m):\n\u001b[1;32m    425\u001b[0m     \u001b[38;5;66;03m# ironically, np.broadcast does not properly handle np.broadcast\u001b[39;00m\n\u001b[1;32m    426\u001b[0m     \u001b[38;5;66;03m# objects (it treats them as scalars)\u001b[39;00m\n\u001b[1;32m    427\u001b[0m     \u001b[38;5;66;03m# use broadcasting to avoid allocating the full array\u001b[39;00m\n",
      "\u001b[0;31mValueError\u001b[0m: shape mismatch: objects cannot be broadcast to a single shape.  Mismatch is between arg 0 with shape (305,) and arg 1 with shape (64675,)."
     ]
    },
    {
     "data": {
      "image/png": "[encoded data removed]",
      "text/plain": [
       "<Figure size 640x480 with 1 Axes>"
      ]
     },
     "metadata": {},
     "output_type": "display_data"
    }
   ],
   "source": [
    "x = US_df['date']\n",
    "y = data_df['ox_economic_support_index']\n",
    "ax = plt.subplot()\n",
    "ax.bar(x,y )\n",
    "plt.show()"
   ]
  },
  {
   "cell_type": "code",
   "execution_count": 29,
   "id": "b948b581",
   "metadata": {},
   "outputs": [
    {
     "data": {
      "image/png": "[encoded data removed]",
      "text/plain": [
       "<Figure size 640x480 with 1 Axes>"
      ]
     },
     "metadata": {},
     "output_type": "display_data"
    }
   ],
   "source": [
    "x = US_df['date']\n",
    "y = US_df['owid_total_deaths_per_million']\n",
    "ax = plt.subplot()\n",
    "ax.bar(x,y)\n",
    "#ax.xaxis_date()\n",
    "plt.show()"
   ]
  },
  {
   "cell_type": "code",
   "execution_count": 33,
   "id": "536852d9",
   "metadata": {},
   "outputs": [
    {
     "data": {
      "image/png": "[encoded data removed]",
      "text/plain": [
       "<Figure size 640x480 with 1 Axes>"
      ]
     },
     "metadata": {},
     "output_type": "display_data"
    }
   ],
   "source": [
    "x = US_df['date']\n",
    "y = US_df['owid_new_deaths_per_million']\n",
    "ax = plt.subplot()\n",
    "ax.bar(x,y)\n",
    "#ax.xaxis_date()\n",
    "plt.show()"
   ]
  },
  {
   "cell_type": "code",
   "execution_count": 20,
   "id": "a7923123",
   "metadata": {},
   "outputs": [
    {
     "name": "stdout",
     "output_type": "stream",
     "text": [
      "nan\n",
      "Romania\n",
      "Jersey\n",
      "Georgia\n",
      "Eritrea\n",
      "Venezuela, RB\n",
      "Northern Mariana Islands\n",
      "United States\n",
      "Wallis & Futuna\n",
      "Sierra Leone\n",
      "Malta\n",
      "Comoros\n",
      "Cambodia\n",
      "Equatorial Guinea\n",
      "Armenia\n",
      "Zambia\n",
      "United Arab Emirates\n",
      "Tanzania\n",
      "Suriname\n",
      "Kazakhstan\n",
      "Nigeria\n",
      "Latvia\n",
      "Sweden\n",
      "Congo, Dem. Rep.\n",
      "Russian Federation\n",
      "Uzbekistan\n",
      "Burkina Faso\n",
      "Denmark\n",
      "Isle of Man\n",
      "Liberia\n",
      "Bahamas, The\n",
      "St. Vincent and the Grenadines\n",
      "Algeria\n",
      "Syrian Arab Republic\n",
      "Faroe Islands\n",
      "Réunion\n",
      "Oman\n",
      "Montenegro\n",
      "Germany\n",
      "Guinea-Bissau\n",
      "Antigua and Barbuda\n",
      "Indonesia\n",
      "Saudi Arabia\n",
      "Gabon\n",
      "Caribbean Netherlands\n",
      "Guyana\n",
      "Ethiopia\n",
      "Maldives\n",
      "Monaco\n",
      "Serbia\n",
      "Bermuda\n",
      "Ghana\n",
      "North Macedonia\n",
      "Liechtenstein\n",
      "State of Palestine\n",
      "Uganda\n",
      "Austria\n",
      "Turkmenistan\n",
      "Bulgaria\n",
      "China\n",
      "Belarus\n",
      "Bahrain\n",
      "Switzerland\n",
      "Turkey\n",
      "Eswatini\n",
      "Nicaragua\n",
      "Ukraine\n",
      "French Polynesia\n",
      "British Virgin Islands\n",
      "Botswana\n",
      "Brunei Darussalam\n",
      "Greenland\n",
      "Guinea\n",
      "Vanuatu\n",
      "Qatar\n",
      "Sao Tome and Principe\n",
      "Vatican City\n",
      "Lebanon\n",
      "Burundi\n",
      "Gambia, The\n",
      "Marshall Islands\n",
      "Hungary\n",
      "Iran, Islamic Rep.\n",
      "St. Kitts and Nevis\n",
      "Bosnia and Herzegovina\n",
      "Grenada\n",
      "Taiwan\n",
      "St. Lucia\n",
      "Yemen, Rep.\n",
      "Barbados\n",
      "Seychelles\n",
      "Turks & Caicos Islands\n",
      "Kuwait\n",
      "Sri Lanka\n",
      "Moldova\n",
      "New Zealand\n",
      "Afghanistan\n",
      "Estonia\n",
      "Somalia\n",
      "Lesotho\n",
      "Sint Maarten\n",
      "Aruba\n",
      "Philippines\n",
      "New Caledonia\n",
      "Netherlands\n",
      "Jordan\n",
      "Cuba\n",
      "Slovak Republic\n",
      "Guernsey\n",
      "Cayman Islands\n",
      "Chad\n",
      "U.S. Virgin Islands\n",
      "Cameroon\n",
      "Curaçao\n",
      "Western Sahara\n",
      "Mozambique\n",
      "Uruguay\n",
      "Pitcairn Islands\n",
      "Myanmar\n",
      "Belgium\n",
      "Niger\n",
      "Libya\n"
     ]
    }
   ],
   "source": [
    "for country in list(countries):\n",
    "    country_df = data_df[data_df['country'] == country]\n",
    "    restrictions = country_df['ox_e1_flag'].sum()\n",
    "    if restrictions <1:\n",
    "        print(country)"
   ]
  },
  {
   "cell_type": "code",
   "execution_count": null,
   "id": "0e9f4e66",
   "metadata": {},
   "outputs": [],
   "source": []
  }
 ],
 "metadata": {
  "kernelspec": {
   "display_name": "Python 3 (ipykernel)",
   "language": "python",
   "name": "python3"
  },
  "language_info": {
   "codemirror_mode": {
    "name": "ipython",
    "version": 3
   },
   "file_extension": ".py",
   "mimetype": "text/x-python",
   "name": "python",
   "nbconvert_exporter": "python",
   "pygments_lexer": "ipython3",
   "version": "3.8.13"
  }
 },
 "nbformat": 4,
 "nbformat_minor": 5
}
